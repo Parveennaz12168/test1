{
  "nbformat": 4,
  "nbformat_minor": 0,
  "metadata": {
    "colab": {
      "provenance": []
    },
    "kernelspec": {
      "name": "python3",
      "display_name": "Python 3"
    },
    "language_info": {
      "name": "python"
    }
  },
  "cells": [
    {
      "cell_type": "code",
      "execution_count": null,
      "metadata": {
        "id": "kURVSURTagnG"
      },
      "outputs": [],
      "source": [
        "#Q1Python Basics Variable"
      ]
    },
    {
      "cell_type": "code",
      "source": [
        "x=10\n",
        "y=20\n",
        "print('Before swaping X is', x, 'Y is', y)"
      ],
      "metadata": {
        "colab": {
          "base_uri": "https://localhost:8080/"
        },
        "id": "i6fjLiw3ay1y",
        "outputId": "beac8913-497c-4eec-bc2f-0238acd11093"
      },
      "execution_count": null,
      "outputs": [
        {
          "output_type": "stream",
          "name": "stdout",
          "text": [
            "Before swaping X is 10 Y is 20\n"
          ]
        }
      ]
    },
    {
      "cell_type": "code",
      "source": [
        "x,y = y,x\n",
        "print('after swaping X is', x,'Y is',y)"
      ],
      "metadata": {
        "colab": {
          "base_uri": "https://localhost:8080/"
        },
        "id": "KrETDlxrbKHd",
        "outputId": "3b83f0c4-9269-4e33-f3f2-cd70b8d0d991"
      },
      "execution_count": null,
      "outputs": [
        {
          "output_type": "stream",
          "name": "stdout",
          "text": [
            "after swaping X is 20 Y is 10\n"
          ]
        }
      ]
    },
    {
      "cell_type": "code",
      "source": [
        "#Declaring Two variables x,y and assign integer values to it\n",
        "a=10\n",
        "b=20\n",
        "#Swapping it with out third Variable\n",
        "a=a+b\n",
        "b=a-b\n",
        "a=a-b\n",
        "#printing the output\n",
        "print(a,b)"
      ],
      "metadata": {
        "colab": {
          "base_uri": "https://localhost:8080/"
        },
        "id": "92eVauLKdNTn",
        "outputId": "6b0b8676-c679-46d1-97c7-974cd49c0425"
      },
      "execution_count": null,
      "outputs": [
        {
          "output_type": "stream",
          "name": "stdout",
          "text": [
            "20 10\n"
          ]
        }
      ]
    },
    {
      "cell_type": "code",
      "source": [
        "# Q2 Area of rectangle"
      ],
      "metadata": {
        "id": "F2jZT-ZdenhL"
      },
      "execution_count": null,
      "outputs": []
    },
    {
      "cell_type": "code",
      "source": [
        "lenth=int(input('Enter the lenth of Rectangle'))\n",
        "width=int(input('Enter the width of Rectangle'))\n",
        "Area= lenth*width\n",
        "print('The area of Rectangle is: %d\\n'%Area)"
      ],
      "metadata": {
        "colab": {
          "base_uri": "https://localhost:8080/"
        },
        "id": "PG7qSpGrfoQS",
        "outputId": "ef6e31af-4f87-40a7-f583-ad23a4dbef67"
      },
      "execution_count": 15,
      "outputs": [
        {
          "output_type": "stream",
          "name": "stdout",
          "text": [
            "Enter the lenth of Rectangle2\n",
            "Enter the width of Rectangle2\n",
            "The area of Rectangle is: 4\n",
            "\n"
          ]
        }
      ]
    },
    {
      "cell_type": "code",
      "source": [
        "#Q3 Convert Celsius to fahrenheit"
      ],
      "metadata": {
        "id": "GAJaPWSEgs6s"
      },
      "execution_count": 16,
      "outputs": []
    },
    {
      "cell_type": "code",
      "source": [
        "Celsius = float(input('Enter the Temperature in celsius'))\n",
        "Fahrenheit = (Celsius * 9/5)\n",
        "print('Temperature in Fahrenheit is :%f\\n'%Fahrenheit)"
      ],
      "metadata": {
        "colab": {
          "base_uri": "https://localhost:8080/"
        },
        "id": "JA0ljTwhhJ2H",
        "outputId": "9d6b1e3c-9a01-4d25-bccd-ba4e4cb43fef"
      },
      "execution_count": 56,
      "outputs": [
        {
          "output_type": "stream",
          "name": "stdout",
          "text": [
            "Enter the Temperature in celsius51.0\n",
            "Temperature in Fahrenheit is :91.800000\n",
            "\n"
          ]
        }
      ]
    },
    {
      "cell_type": "code",
      "source": [
        "#String Based Questions"
      ],
      "metadata": {
        "id": "fgCzxfbplemE"
      },
      "execution_count": 58,
      "outputs": []
    },
    {
      "cell_type": "code",
      "source": [
        "#Q1 lenght of string"
      ],
      "metadata": {
        "id": "V5L96RLtvnHl"
      },
      "execution_count": null,
      "outputs": []
    },
    {
      "cell_type": "code",
      "source": [
        "A= str(input('Enter the string'))\n",
        "len(A)\n",
        "print('the lenght is given string is',len(A))"
      ],
      "metadata": {
        "colab": {
          "base_uri": "https://localhost:8080/"
        },
        "id": "6uUNk4eov1WL",
        "outputId": "f2e20584-352b-4b00-ed94-d003714a83ca"
      },
      "execution_count": null,
      "outputs": [
        {
          "output_type": "stream",
          "name": "stdout",
          "text": [
            "Enter the string4569872\n",
            "the lenght is given string is 7\n"
          ]
        }
      ]
    },
    {
      "cell_type": "code",
      "source": [
        "#Q2 number of vowels present in given string"
      ],
      "metadata": {
        "id": "BBgFHJhRw-u_"
      },
      "execution_count": null,
      "outputs": []
    },
    {
      "cell_type": "code",
      "source": [
        "C =str(input('Enter the string'))\n",
        "vowels = 0\n",
        "for i in C:\n",
        "    if(i=='a' or i=='e' or i=='i' or i=='o' or i=='u' or i=='A' or i=='E' or i=='I' or i=='O' or i=='U'):\n",
        "        vowels+=1\n",
        "print(\"The length of the vowels in given string is\",vowels)"
      ],
      "metadata": {
        "colab": {
          "base_uri": "https://localhost:8080/"
        },
        "id": "3xb2cOCgxxrY",
        "outputId": "e4b21cbb-cf75-40b6-f7e6-bcc9da9cb40e"
      },
      "execution_count": null,
      "outputs": [
        {
          "output_type": "stream",
          "name": "stdout",
          "text": [
            "Enter the stringpari\n",
            "The length of the vowels in given string is 2\n"
          ]
        }
      ]
    },
    {
      "cell_type": "code",
      "source": [
        "#Q3 Reverse the order of string"
      ],
      "metadata": {
        "id": "KsEb9RHVL5HY"
      },
      "execution_count": 1,
      "outputs": []
    },
    {
      "cell_type": "code",
      "source": [
        "A = \"pari\"\n",
        "print(\"The revers order of given is:\\n\",(A[::-1]))"
      ],
      "metadata": {
        "colab": {
          "base_uri": "https://localhost:8080/"
        },
        "id": "JFd7SdOe5LN8",
        "outputId": "abd83e18-7dd7-4b4f-d5e9-303bf5f619a4"
      },
      "execution_count": 2,
      "outputs": [
        {
          "output_type": "stream",
          "name": "stdout",
          "text": [
            "The revers order of given is:\n",
            " irap\n"
          ]
        }
      ]
    },
    {
      "cell_type": "code",
      "source": [
        "#Q4 To check weather string is palindrome or not"
      ],
      "metadata": {
        "id": "xTeUBe7z5z7f"
      },
      "execution_count": 3,
      "outputs": []
    },
    {
      "cell_type": "code",
      "source": [
        "A = str(input('Enter the string'))\n",
        "reverse = A[::-1]\n",
        "if A == reverse:\n",
        "    print(\"The given string is palindrome\")\n",
        "else:\n",
        "    print(\"The given string is not a palindrome\")"
      ],
      "metadata": {
        "colab": {
          "base_uri": "https://localhost:8080/"
        },
        "id": "9dP_n5hY5_kd",
        "outputId": "9ff2b537-bda7-494d-d75c-6808c00d0dc4"
      },
      "execution_count": 8,
      "outputs": [
        {
          "output_type": "stream",
          "name": "stdout",
          "text": [
            "Enter the stringA\n",
            "The given string is palindrome\n"
          ]
        }
      ]
    },
    {
      "cell_type": "code",
      "source": [
        "#Q5 Remove all spaces in given string"
      ],
      "metadata": {
        "id": "iKAHn9nS7K-u"
      },
      "execution_count": 9,
      "outputs": []
    },
    {
      "cell_type": "code",
      "source": [
        "A = input(\"Enter the string:\")\n",
        "B = \" \"\n",
        "for i in A:\n",
        "  if not i.isspace() :\n",
        "    B+=i\n",
        "print(B)\n"
      ],
      "metadata": {
        "colab": {
          "base_uri": "https://localhost:8080/"
        },
        "id": "_jHlSf4m8DFi",
        "outputId": "972ab58e-6b9e-4eb3-800a-689b73a78d1a"
      },
      "execution_count": 12,
      "outputs": [
        {
          "output_type": "stream",
          "name": "stdout",
          "text": [
            "Enter the string:Today is great day\n",
            " Todayisgreatday\n"
          ]
        }
      ]
    },
    {
      "cell_type": "code",
      "source": [],
      "metadata": {
        "id": "b0Dlsw3I9AOJ"
      },
      "execution_count": 12,
      "outputs": []
    }
  ]
}